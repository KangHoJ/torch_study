{
 "cells": [
  {
   "cell_type": "markdown",
   "metadata": {},
   "source": [
    "## tensor기초"
   ]
  },
  {
   "cell_type": "code",
   "execution_count": 22,
   "metadata": {},
   "outputs": [
    {
     "name": "stdout",
     "output_type": "stream",
     "text": [
      "torch.Size([3]) torch.Size([2, 3]) (2, 3)\n"
     ]
    }
   ],
   "source": [
    "# 텐서 생성  \n",
    "import torch\n",
    "import numpy as np\n",
    "x = torch.empty(5,4) # 빈 (5,4)텐서\n",
    "x2 = torch.ones(3,3) # 1인 (3,3)텐서\n",
    "x3 = torch.zeros(3,3) # 0인 (3,3)텐서\n",
    "x4 = torch.rand(4,3) # 랜덤 (4,3)생성\n",
    "\n",
    "x5 = [1,2,3]\n",
    "x6 = np.array(([4,52,5],[1,2,3]))\n",
    "x5 = torch.tensor(x5) # tensor로 변환\n",
    "x6 = torch.tensor(x6) # tensor로 변환 \n",
    "\n",
    "x7 = x6.numpy() # 다시 numpy배열로 변환\n",
    "print(x5.size() , x6.size() , x7.shape)"
   ]
  },
  {
   "cell_type": "code",
   "execution_count": 16,
   "metadata": {},
   "outputs": [
    {
     "name": "stdout",
     "output_type": "stream",
     "text": [
      "tensor([[0.9930, 1.2576],\n",
      "        [1.3750, 1.0141]])\n",
      "tensor([[0.9930, 1.2576],\n",
      "        [1.3750, 1.0141]])\n"
     ]
    }
   ],
   "source": [
    "# 텐서 연산 \n",
    "x = torch.rand(2,2)\n",
    "y = torch.rand(2,2)\n",
    "print(torch.add(x,y))\n",
    "print(y.add(x))"
   ]
  },
  {
   "cell_type": "code",
   "execution_count": 19,
   "metadata": {},
   "outputs": [
    {
     "name": "stdout",
     "output_type": "stream",
     "text": [
      "torch.Size([8, 8])\n",
      "torch.Size([4, 4, 4])\n",
      "torch.Size([64])\n"
     ]
    }
   ],
   "source": [
    "# 텐서 크기 변환\n",
    "x = torch.rand(8,8) #64\n",
    "print(x.size())\n",
    "xx = x.view(-1,4,4) # 4,4,4\n",
    "print(xx.size())\n",
    "xxx = x.view(64)\n",
    "print(xxx.size()) "
   ]
  },
  {
   "cell_type": "code",
   "execution_count": 45,
   "metadata": {},
   "outputs": [
    {
     "name": "stdout",
     "output_type": "stream",
     "text": [
      "tensor([[1., 1.],\n",
      "        [1., 1.]], requires_grad=True)\n",
      "tensor([[2., 2.],\n",
      "        [2., 2.]], grad_fn=<AddBackward0>)\n",
      "tensor([[8., 8.],\n",
      "        [8., 8.]], grad_fn=<MulBackward0>)\n",
      "---------------------------------------------------------------\n",
      "r :  tensor(8., grad_fn=<MeanBackward0>)\n",
      "tensor([[2., 2.],\n",
      "        [2., 2.]])\n"
     ]
    }
   ],
   "source": [
    "# 역전파 (간단한 합성함수 형태)\n",
    "x = torch.ones(2,2,requires_grad=True)\n",
    "y = x+1\n",
    "z = 2*y**2 \n",
    "r = z.mean() # z=2(x+1)^2\n",
    "print(x)\n",
    "print(y)\n",
    "print(z)\n",
    "print('---------------------'*3)\n",
    "print('r : ',r)\n",
    "\n",
    "r.backward() # r기준으로 역전파 dr/dx 계산 \n",
    "print(x.grad) # 미분값 "
   ]
  },
  {
   "cell_type": "code",
   "execution_count": 77,
   "metadata": {},
   "outputs": [
    {
     "name": "stdout",
     "output_type": "stream",
     "text": [
      "torch.Size([5, 1])\n",
      "tensor([[0.],\n",
      "        [1.],\n",
      "        [2.],\n",
      "        [3.],\n",
      "        [4.]])\n",
      "tensor([[8.5793e-03],\n",
      "        [2.5438e+00],\n",
      "        [4.6226e+00],\n",
      "        [6.3733e+00],\n",
      "        [8.7303e+00]])\n"
     ]
    }
   ],
   "source": [
    "from matplotlib import pyplot as plt\n",
    "x= torch.FloatTensor(range(5)).unsqueeze(1) # 2차원으로 표현하기 위해 unsqueeze(1) = 첫번쨰 위치의 차원을 늘려준다\n",
    "print(x.size())\n",
    "print(x)\n",
    "y = 2*x + torch.rand(5,1)\n",
    "print(y)"
   ]
  },
  {
   "cell_type": "code",
   "execution_count": 70,
   "metadata": {},
   "outputs": [
    {
     "data": {
      "text/plain": [
       "tensor([[0.3483],\n",
       "        [0.2034],\n",
       "        [0.7841],\n",
       "        [0.0478],\n",
       "        [0.2033]])"
      ]
     },
     "execution_count": 70,
     "metadata": {},
     "output_type": "execute_result"
    }
   ],
   "source": [
    "torch.rand(5,1)"
   ]
  }
 ],
 "metadata": {
  "kernelspec": {
   "display_name": "pyto",
   "language": "python",
   "name": "python3"
  },
  "language_info": {
   "codemirror_mode": {
    "name": "ipython",
    "version": 3
   },
   "file_extension": ".py",
   "mimetype": "text/x-python",
   "name": "python",
   "nbconvert_exporter": "python",
   "pygments_lexer": "ipython3",
   "version": "3.11.8"
  }
 },
 "nbformat": 4,
 "nbformat_minor": 2
}
