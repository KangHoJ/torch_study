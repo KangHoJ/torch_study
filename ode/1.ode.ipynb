{
 "cells": [
  {
   "cell_type": "markdown",
   "metadata": {},
   "source": [
    "## Simple ODE system"
   ]
  },
  {
   "cell_type": "code",
   "execution_count": 3,
   "metadata": {},
   "outputs": [],
   "source": [
    "import deepxde as dde\n",
    "import numpy as np\n",
    "import torch\n",
    "from matplotlib import pyplot as plt\n",
    "import torch.nn.functional as F\n",
    "import torch.optim as optim"
   ]
  },
  {
   "attachments": {
    "image.png": {
     "image/png": "[encoded data removed]"
    }
   },
   "cell_type": "markdown",
   "metadata": {},
   "source": [
    "![image.png](attachment:image.png)"
   ]
  },
  {
   "cell_type": "code",
   "execution_count": 2,
   "metadata": {},
   "outputs": [],
   "source": [
    "geom = dde.geometry.TimeDomain(0,10) # 시간 범위 지정"
   ]
  },
  {
   "cell_type": "code",
   "execution_count": 11,
   "metadata": {},
   "outputs": [
    {
     "data": {
      "text/plain": [
       "'\\n# ODE 시스템을 해결하기 위해 각 변수의 변화율을 모델링해야 하기 떄문 변수를 분리한다\\n# 여러개의 종속변수가 있다면 각 변수에 대한 미분 방정식을 분리해야한다\\n'"
      ]
     },
     "execution_count": 11,
     "metadata": {},
     "output_type": "execute_result"
    }
   ],
   "source": [
    "'''\n",
    "# ODE 시스템을 해결하기 위해 각 변수의 변화율을 모델링해야 하기 떄문 변수를 분리한다\n",
    "# 여러개의 종속변수가 있다면 각 변수에 대한 미분 방정식을 분리해야한다\n",
    "'''"
   ]
  },
  {
   "cell_type": "code",
   "execution_count": 8,
   "metadata": {},
   "outputs": [],
   "source": [
    "def ode_system(x,y):\n",
    "    y1,y2 = y[:,0:1],y[:,1:] \n",
    "    dy1_x = dde.grad.jacobian(y,x,i=0) #y1/x \n",
    "    dy2_x = dde.grad.jacobian(y,x,i=1) #y2/x\n",
    "    return [dy1_x-y2 , dy2_x+y1]\n",
    "\n",
    "# 경계조건 (이 문제에서는 없다)\n",
    "def boundary(_, on_initial):\n",
    "    return on_initial \n",
    "\n",
    "# 해를 나타냄 \n",
    "def func(x):\n",
    "    return np.hstack((np.sin(x), np.cos(x)))\n",
    "\n",
    "\n",
    "geom = dde.geometry.TimeDomain(0,10)\n",
    "# x=0에서 시작하므로 초기조건 설정 \n",
    "ic1 = dde.icbc.IC(geom, lambda x: 0, boundary, component=0) # x=0에서 y1=0 , componet는 y1에 대한것이라는걸 알려줌 \n",
    "ic2 = dde.icbc.IC(geom, lambda x: 1, boundary, component=1) # x=0에서 y2=1 , componet는 y2에 대한것이라는걸 알려줌\n",
    "data = dde.data.PDE(geom, ode_system, [ic1, ic2], 35, 2, solution=func, num_test=100) # 35는 훈련개수 , 2는 종속변수 개수 "
   ]
  },
  {
   "cell_type": "code",
   "execution_count": 30,
   "metadata": {},
   "outputs": [
    {
     "name": "stdout",
     "output_type": "stream",
     "text": [
      "Compiling model...\n",
      "'compile' took 0.002544 s\n",
      "\n",
      "Training model...\n",
      "\n",
      "0         [1.95e-02, 1.76e-01, 0.00e+00, 1.00e+00]    [1.84e-02, 1.81e-01, 0.00e+00, 1.00e+00]    [1.04e+00]    \n",
      "1000      [7.75e-03, 6.22e-03, 1.60e-10, 2.48e-04]    [8.49e-03, 6.14e-03, 1.60e-10, 2.48e-04]    [7.35e-01]    \n",
      "2000      [4.80e-03, 4.03e-03, 6.61e-07, 1.02e-04]    [4.96e-03, 4.27e-03, 6.61e-07, 1.02e-04]    [5.75e-01]    \n",
      "3000      [1.33e-03, 1.72e-03, 1.38e-06, 2.50e-05]    [1.42e-03, 1.51e-03, 1.38e-06, 2.50e-05]    [2.95e-01]    \n",
      "4000      [3.05e-04, 5.04e-04, 7.75e-07, 3.42e-06]    [3.38e-04, 3.65e-04, 7.75e-07, 3.42e-06]    [1.21e-01]    \n",
      "5000      [1.54e-04, 2.36e-04, 9.93e-06, 8.03e-06]    [1.64e-04, 1.73e-04, 9.93e-06, 8.03e-06]    [5.46e-02]    \n",
      "6000      [4.82e-05, 7.92e-05, 5.65e-07, 2.34e-07]    [4.71e-05, 5.76e-05, 5.65e-07, 2.34e-07]    [2.82e-02]    \n",
      "7000      [2.39e-05, 3.49e-05, 9.18e-07, 3.29e-07]    [2.47e-05, 2.48e-05, 9.18e-07, 3.29e-07]    [1.41e-02]    \n",
      "8000      [1.24e-05, 1.47e-05, 4.78e-07, 1.09e-07]    [1.30e-05, 1.10e-05, 4.78e-07, 1.09e-07]    [7.72e-03]    \n",
      "9000      [1.73e-04, 7.20e-05, 5.59e-05, 1.74e-05]    [1.71e-04, 5.87e-05, 5.59e-05, 1.74e-05]    [1.48e-02]    \n",
      "10000     [6.23e-06, 4.98e-06, 8.78e-09, 2.62e-07]    [6.20e-06, 4.82e-06, 8.78e-09, 2.62e-07]    [4.07e-03]    \n",
      "11000     [6.08e-06, 3.56e-06, 2.35e-07, 1.79e-08]    [6.17e-06, 2.96e-06, 2.35e-07, 1.79e-08]    [3.31e-03]    \n",
      "12000     [5.08e-06, 2.92e-06, 8.18e-08, 3.10e-08]    [5.20e-06, 2.72e-06, 8.18e-08, 3.10e-08]    [2.66e-03]    \n",
      "13000     [1.04e-04, 5.16e-05, 4.16e-05, 8.44e-06]    [1.10e-04, 4.80e-05, 4.16e-05, 8.44e-06]    [1.00e-02]    \n",
      "14000     [3.82e-06, 2.26e-06, 1.11e-09, 2.44e-09]    [4.01e-06, 2.40e-06, 1.11e-09, 2.44e-09]    [2.01e-03]    \n",
      "15000     [3.41e-06, 2.07e-06, 1.65e-11, 3.64e-12]    [3.59e-06, 2.24e-06, 1.65e-11, 3.64e-12]    [1.86e-03]    \n",
      "16000     [4.43e-06, 4.92e-06, 4.54e-07, 5.26e-07]    [4.52e-06, 5.69e-06, 4.54e-07, 5.26e-07]    [2.98e-03]    \n",
      "17000     [5.15e-06, 7.57e-06, 1.50e-06, 8.98e-08]    [5.48e-06, 6.88e-06, 1.50e-06, 8.98e-08]    [3.34e-03]    \n",
      "18000     [2.35e-06, 1.61e-06, 1.46e-09, 1.23e-09]    [2.51e-06, 1.92e-06, 1.46e-09, 1.23e-09]    [1.42e-03]    \n",
      "19000     [2.06e-06, 1.48e-06, 9.33e-11, 2.94e-11]    [2.23e-06, 1.84e-06, 9.33e-11, 2.94e-11]    [1.29e-03]    \n",
      "20000     [1.89e-05, 1.13e-05, 7.78e-06, 2.54e-06]    [2.03e-05, 1.14e-05, 7.78e-06, 2.54e-06]    [4.05e-03]    \n",
      "\n",
      "Best model at step 19000:\n",
      "  train loss: 3.54e-06\n",
      "  test loss: 4.07e-06\n",
      "  test metric: [1.29e-03]\n",
      "\n",
      "'train' took 200.470611 s\n",
      "\n"
     ]
    }
   ],
   "source": [
    "# 모델 \n",
    "layer_size = [1] + [50] * 3 + [2] # 3개의 hidden layer \n",
    "activation = \"tanh\" # 활성화 함수는 tanh\n",
    "initializer = \"Glorot uniform\" # initializer \n",
    "net = dde.nn.FNN(layer_size, activation, initializer) # model 구성 \n",
    "model = dde.Model(data, net) # \n",
    "model.compile(\"adam\", lr=0.001, metrics=[\"l2 relative error\"])\n",
    "losshistory, train_state = model.train(iterations=20000)\n",
    "# dde.saveplot(losshistory, train_state, issave=True, isplot=True)"
   ]
  },
  {
   "cell_type": "markdown",
   "metadata": {},
   "source": [
    "## torch로 바꿨을때"
   ]
  },
  {
   "cell_type": "code",
   "execution_count": null,
   "metadata": {},
   "outputs": [],
   "source": []
  }
 ],
 "metadata": {
  "kernelspec": {
   "display_name": "pyto",
   "language": "python",
   "name": "python3"
  },
  "language_info": {
   "codemirror_mode": {
    "name": "ipython",
    "version": 3
   },
   "file_extension": ".py",
   "mimetype": "text/x-python",
   "name": "python",
   "nbconvert_exporter": "python",
   "pygments_lexer": "ipython3",
   "version": "3.11.8"
  }
 },
 "nbformat": 4,
 "nbformat_minor": 2
}
