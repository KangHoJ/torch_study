{
 "cells": [
  {
   "cell_type": "code",
   "execution_count": 1,
   "metadata": {},
   "outputs": [
    {
     "name": "stdout",
     "output_type": "stream",
     "text": [
      "tensor([1., 1., 1.])\n",
      "torch.Size([3])\n"
     ]
    }
   ],
   "source": [
    "import torch\n",
    "import matplotlib.pyplot as plt\n",
    "a = torch.ones(3) # 크기가 3인 1차원 텐서\n",
    "print(a)\n",
    "print(a.shape)"
   ]
  },
  {
   "cell_type": "code",
   "execution_count": 9,
   "metadata": {},
   "outputs": [
    {
     "name": "stdout",
     "output_type": "stream",
     "text": [
      "tensor([[4., 1., 3.],\n",
      "        [5., 3., 3.],\n",
      "        [2., 1., 3.]])\n",
      "torch.Size([3, 3])\n",
      "tensor(1.)\n"
     ]
    }
   ],
   "source": [
    "points = torch.tensor([[4.0, 1.0 ,3], [5.0, 3.0,3], [2.0, 1.0,3]])\n",
    "print(points)\n",
    "print(points.shape) \n",
    "print(points[0,1])                                                                                                                         "
   ]
  },
  {
   "cell_type": "code",
   "execution_count": 2,
   "metadata": {},
   "outputs": [
    {
     "data": {
      "text/plain": [
       "tensor([[[ 0.6564, -0.1004,  0.8934, -0.8658, -1.9889,  0.4015],\n",
       "         [-1.9737, -1.4124, -0.6331, -2.1054,  1.9837,  1.1340],\n",
       "         [-0.8314, -0.8371, -0.1372,  0.7425, -0.0729,  0.0780],\n",
       "         [-0.1954, -0.1095,  0.5222,  1.5207, -1.5092, -0.5382],\n",
       "         [ 0.0431,  0.4880,  0.6099,  1.2415,  1.1515, -0.2428]],\n",
       "\n",
       "        [[-0.1120,  0.7961, -2.6470, -0.9977, -0.3974, -0.6669],\n",
       "         [ 0.5403, -0.2061,  0.5187,  0.9215,  0.8184, -1.0994],\n",
       "         [ 0.5349,  0.2920,  1.7966,  0.0760,  0.0800, -1.2111],\n",
       "         [-0.2927,  0.0039,  1.0246,  0.2900, -2.1198,  0.3840],\n",
       "         [ 0.6989,  0.9822, -0.2448,  2.3628, -0.9668,  1.2599]],\n",
       "\n",
       "        [[-0.7318,  1.0356,  0.3806,  0.2739, -1.1058,  0.0398],\n",
       "         [ 0.9205,  1.2824, -0.8794, -1.0281,  1.2370,  1.3666],\n",
       "         [ 1.1086,  1.5023,  0.3930,  0.6388, -1.1563,  0.6677],\n",
       "         [ 0.3404, -0.4609, -0.2193,  0.7982,  0.3244,  1.0617],\n",
       "         [ 1.1146,  1.7182,  0.1658, -1.0228,  1.2579,  1.2837]]])"
      ]
     },
     "execution_count": 2,
     "metadata": {},
     "output_type": "execute_result"
    }
   ],
   "source": [
    "image = torch.randn(3,5,6) # 3채널(색) , 5행 , 6열\n",
    "image"
   ]
  },
  {
   "cell_type": "code",
   "execution_count": 3,
   "metadata": {},
   "outputs": [
    {
     "data": {
      "text/plain": [
       "torch.Size([3, 5, 6])"
      ]
     },
     "execution_count": 3,
     "metadata": {},
     "output_type": "execute_result"
    }
   ],
   "source": [
    "image.shape"
   ]
  },
  {
   "cell_type": "code",
   "execution_count": 4,
   "metadata": {},
   "outputs": [
    {
     "name": "stdout",
     "output_type": "stream",
     "text": [
      "tensor([[-0.0624,  0.5771, -0.4577, -0.5299, -1.1640, -0.0752],\n",
      "        [-0.1710, -0.1120, -0.3313, -0.7373,  1.3464,  0.4671],\n",
      "        [ 0.2707,  0.3191,  0.6842,  0.4858, -0.3831, -0.1551],\n",
      "        [-0.0492, -0.1889,  0.4425,  0.8696, -1.1015,  0.3025],\n",
      "        [ 0.6189,  1.0628,  0.1770,  0.8605,  0.4809,  0.7670]])\n",
      "torch.Size([5, 6])\n"
     ]
    }
   ],
   "source": [
    "print(image.mean(-3))   \n",
    "print(image.mean(-3).shape)"
   ]
  },
  {
   "cell_type": "code",
   "execution_count": 5,
   "metadata": {},
   "outputs": [
    {
     "name": "stdout",
     "output_type": "stream",
     "text": [
      "tensor([[-0.4602, -0.3943,  0.2510,  0.1067, -0.0872,  0.1665],\n",
      "        [ 0.2739,  0.3736,  0.0896,  0.5305, -0.5171, -0.2667],\n",
      "        [ 0.5505,  1.0155, -0.0319, -0.0680,  0.1114,  0.8839]])\n",
      "torch.Size([3, 6])\n"
     ]
    }
   ],
   "source": [
    "print(image.mean(-2)) # 각 행값들의 평균을 구해서 넣어준다(세로 연산)\n",
    "print(image.mean(-2).shape)"
   ]
  },
  {
   "cell_type": "code",
   "execution_count": 6,
   "metadata": {},
   "outputs": [
    {
     "name": "stdout",
     "output_type": "stream",
     "text": [
      "tensor([[-0.1673, -0.5012, -0.1764, -0.0516,  0.5485],\n",
      "        [-0.6708,  0.2489,  0.2614, -0.1184,  0.6820],\n",
      "        [-0.0179,  0.4832,  0.5257,  0.3074,  0.7529]])\n",
      "torch.Size([3, 5])\n"
     ]
    }
   ],
   "source": [
    "print(image.mean(-1)) # 각 열값들의 평균을 구해서 넣어준다 (가로 연산)\n",
    "print(image.mean(-1).shape)"
   ]
  },
  {
   "cell_type": "code",
   "execution_count": 20,
   "metadata": {},
   "outputs": [
    {
     "name": "stdout",
     "output_type": "stream",
     "text": [
      "tensor([[[1]],\n",
      "\n",
      "        [[1]],\n",
      "\n",
      "        [[1]]])\n"
     ]
    },
    {
     "data": {
      "text/plain": [
       "torch.Size([3, 1, 1])"
      ]
     },
     "execution_count": 20,
     "metadata": {},
     "output_type": "execute_result"
    }
   ],
   "source": [
    "weights = torch.tensor([[1],[1],[1]]).unsqueeze(-1) # 가장 오른쪽차원 추가 [3,1] -> [3,1,1]\n",
    "print(weights)\n",
    "weights.shape "
   ]
  },
  {
   "cell_type": "code",
   "execution_count": 8,
   "metadata": {},
   "outputs": [
    {
     "data": {
      "text/plain": [
       "tensor([[[ 5.7833e-01,  2.7625e-01,  1.8477e+00,  1.6780e+00, -1.2982e-01,\n",
       "           6.3216e-01],\n",
       "         [ 3.9858e-01, -3.8918e-01,  8.1343e-01,  6.7158e-01, -4.1242e-01,\n",
       "          -2.8699e-01],\n",
       "         [-8.8036e-01, -2.9735e-01,  5.3853e-02, -1.3739e+00,  6.7856e-01,\n",
       "           3.0225e-01],\n",
       "         [-5.9437e-01,  6.2562e-01,  2.9757e-01,  2.4109e-01,  1.4217e+00,\n",
       "           1.2525e-02],\n",
       "         [-1.3218e+00, -8.4334e-01,  1.7185e+00,  3.2919e-01, -7.1972e-01,\n",
       "          -4.4764e-01]],\n",
       "\n",
       "        [[ 1.6842e-01, -1.6902e+00, -1.3217e-01,  9.0236e-01,  8.5405e-01,\n",
       "           1.6585e+00],\n",
       "         [ 1.0030e+00, -1.8466e-01, -1.3355e+00,  3.4179e-01, -1.2985e-01,\n",
       "           1.4332e+00],\n",
       "         [-1.5220e-01,  1.3967e+00,  6.7098e-01,  6.4261e-01,  2.9226e-01,\n",
       "           3.3068e-01],\n",
       "         [ 1.8295e-03, -1.0449e+00, -4.0328e-01, -2.1275e+00,  1.4109e+00,\n",
       "           2.8605e-01],\n",
       "         [-2.8711e-01, -1.9110e+00,  5.6878e-01,  4.7600e-01, -1.1532e+00,\n",
       "          -7.4790e-01]],\n",
       "\n",
       "        [[-7.3492e-01,  9.7445e-01,  6.9997e-01, -1.1499e+00,  1.4275e+00,\n",
       "           5.9161e-01],\n",
       "         [ 1.1608e+00, -7.6486e-01,  3.4949e-01,  2.2130e+00,  1.7418e+00,\n",
       "          -5.9396e-01],\n",
       "         [-1.0646e+00, -5.8406e-01, -4.2754e-01, -1.0012e+00,  6.1960e-01,\n",
       "           9.6104e-01],\n",
       "         [-5.9795e-01,  1.0040e+00,  2.2176e-01, -3.2588e-01,  1.4994e+00,\n",
       "          -4.2708e-01],\n",
       "         [ 1.2357e+00, -2.4166e+00, -2.3241e-01, -1.0472e+00, -1.4835e-01,\n",
       "          -1.1094e+00]]])"
      ]
     },
     "execution_count": 8,
     "metadata": {},
     "output_type": "execute_result"
    }
   ],
   "source": [
    "image * weights # [3,1,1] * [3,5,6] / [3,5,6] * [3,5,6]은 가능하나 / [3,2,1] * [3,5,6]은 연산이 불가능하다"
   ]
  },
  {
   "cell_type": "code",
   "execution_count": 32,
   "metadata": {},
   "outputs": [
    {
     "name": "stdout",
     "output_type": "stream",
     "text": [
      "원본 텐서 이름: ('channels',)\n",
      "수정된 텐서 이름: ('rows',)\n"
     ]
    }
   ],
   "source": [
    "# 차원 이름 지정하기\n",
    "img_names = torch.tensor([0.1, 0.2, 0.5], names=['channels'])  # 채널 이름 지정\n",
    "print(\"원본 텐서 이름:\", img_names.names)\n",
    "\n",
    "# 텐서 이름 수정\n",
    "re_img_names = img_names.rename(channels='rows')  # 올바른 차원 이름을 사용하여 수정\n",
    "print(\"수정된 텐서 이름:\", re_img_names.names)"
   ]
  },
  {
   "cell_type": "code",
   "execution_count": 37,
   "metadata": {},
   "outputs": [
    {
     "data": {
      "text/plain": [
       "(('channels', 'rows', 'columns'), torch.Size([3, 5, 5]))"
      ]
     },
     "execution_count": 37,
     "metadata": {},
     "output_type": "execute_result"
    }
   ],
   "source": [
    "img_t = torch.randn(3, 5, 5) \n",
    "img_named =  img_t.refine_names(..., 'channels', 'rows', 'columns')\n",
    "img_named.names , img_named.shape"
   ]
  },
  {
   "cell_type": "code",
   "execution_count": 49,
   "metadata": {},
   "outputs": [
    {
     "data": {
      "text/plain": [
       "(tensor([[1., 1.],\n",
       "         [1., 1.],\n",
       "         [1., 1.]]),\n",
       " torch.Size([3, 2]),\n",
       " tensor([[1., 1., 1.],\n",
       "         [1., 1., 1.]]),\n",
       " torch.Size([2, 3]))"
      ]
     },
     "execution_count": 49,
     "metadata": {},
     "output_type": "execute_result"
    }
   ],
   "source": [
    "# 형태 변경 \n",
    "a = torch.ones(3,2)\n",
    "a_t = a.transpose(0,1)\n",
    "a , a.shape , a_t, a_t.shape"
   ]
  },
  {
   "cell_type": "code",
   "execution_count": 55,
   "metadata": {},
   "outputs": [
    {
     "data": {
      "text/plain": [
       "tensor([[0., 0.],\n",
       "        [0., 0.],\n",
       "        [0., 0.]])"
      ]
     },
     "execution_count": 55,
     "metadata": {},
     "output_type": "execute_result"
    }
   ],
   "source": [
    "# 변환\n",
    "a = torch.ones(3,2)\n",
    "a.zero_() # 입력된 모든 텐서의 요스를 0으로 바꿈\n",
    "a"
   ]
  },
  {
   "cell_type": "code",
   "execution_count": 53,
   "metadata": {},
   "outputs": [
    {
     "data": {
      "text/plain": [
       " 4\n",
       " 5\n",
       " 3\n",
       " 4\n",
       " 2\n",
       " 1\n",
       "[torch.storage.TypedStorage(dtype=torch.int64, device=cpu) of size 6]"
      ]
     },
     "execution_count": 53,
     "metadata": {},
     "output_type": "execute_result"
    }
   ],
   "source": [
    "## 저장 공간 확인 \n",
    "points = torch.tensor([[4,5],[3,4],[2,1]])\n",
    "points.storage() # 저장이 어떻게 되는지 확인 (실제로는 크기가6인 배열공간) = 차원에 무관하게 실제 저장 공간 레이아웃은 1차원"
   ]
  },
  {
   "cell_type": "code",
   "execution_count": 10,
   "metadata": {},
   "outputs": [
    {
     "data": {
      "text/plain": [
       "tensor([[4, 5],\n",
       "        [3, 4],\n",
       "        [2, 1]])"
      ]
     },
     "execution_count": 10,
     "metadata": {},
     "output_type": "execute_result"
    }
   ],
   "source": [
    "points = torch.tensor([[4,5],[3,4],[2,1]])\n",
    "points"
   ]
  },
  {
   "cell_type": "code",
   "execution_count": 62,
   "metadata": {},
   "outputs": [
    {
     "data": {
      "text/plain": [
       "(tensor([[4, 5],\n",
       "         [3, 4],\n",
       "         [2, 1]]),\n",
       " tensor([[ 4,  5],\n",
       "         [10,  4],\n",
       "         [ 2,  1]]))"
      ]
     },
     "execution_count": 62,
     "metadata": {},
     "output_type": "execute_result"
    }
   ],
   "source": [
    "# 복제 방법\n",
    "points = torch.tensor([[4,5],[3,4],[2,1]])\n",
    "second_point = points[1].clone() # 복제 (새로운 메모리 공간에 저장=원본 텐서에 영향을 미치지 않음 )\n",
    "second_point[0] = 10\n",
    "points\n",
    "\n",
    "# 복제 x(동일한 저장공간을 가리킴)\n",
    "points2 = torch.tensor([[4,5],[3,4],[2,1]])\n",
    "second_point2 = points2[1]\n",
    "second_point2[0] = 10\n",
    "\n",
    "points , points2"
   ]
  },
  {
   "cell_type": "code",
   "execution_count": 20,
   "metadata": {},
   "outputs": [
    {
     "data": {
      "text/plain": [
       "(torch.Size([5, 4, 3]), (1, 5, 20))"
      ]
     },
     "execution_count": 20,
     "metadata": {},
     "output_type": "execute_result"
    }
   ],
   "source": [
    "# 전치 연산 \n",
    "some_t = torch.ones(3,4,5)\n",
    "transpost_t = some_t.transpose(0,2)  # 0차원과 2차원 위치를 변경시킨다 \n",
    "transpost_t.shape , transpost_t.stride()\n"
   ]
  },
  {
   "cell_type": "code",
   "execution_count": 21,
   "metadata": {},
   "outputs": [
    {
     "data": {
      "text/plain": [
       "False"
      ]
     },
     "execution_count": 21,
     "metadata": {},
     "output_type": "execute_result"
    }
   ],
   "source": [
    "transpost_t.is_contiguous() "
   ]
  },
  {
   "cell_type": "code",
   "execution_count": 22,
   "metadata": {},
   "outputs": [
    {
     "data": {
      "text/plain": [
       "True"
      ]
     },
     "execution_count": 22,
     "metadata": {},
     "output_type": "execute_result"
    }
   ],
   "source": [
    "transpost_t = transpost_t.contiguous() # 인접한 텐서로 만들어줌(가끔 인접한 텐서에 대해서만 동작하는 경우가 있음 , 메모리에 연속적으로 저장되어 있는 경우)\n",
    "transpost_t.is_contiguous() "
   ]
  },
  {
   "cell_type": "code",
   "execution_count": 72,
   "metadata": {},
   "outputs": [],
   "source": [
    "## numpy배열로 변환\n",
    "t = torch.ones(3,4)\n",
    "t_np = t.numpy()\n",
    "t_torch = torch.from_numpy(t_np)"
   ]
  },
  {
   "cell_type": "code",
   "execution_count": 86,
   "metadata": {},
   "outputs": [
    {
     "data": {
      "text/plain": [
       "tensor([[0, 1, 2],\n",
       "        [3, 4, 5],\n",
       "        [6, 7, 8]])"
      ]
     },
     "execution_count": 86,
     "metadata": {},
     "output_type": "execute_result"
    }
   ],
   "source": [
    "# 연습문제\n",
    "a = torch.tensor(list(range(9)))\n",
    "a = a.view(3,3)\n",
    "a"
   ]
  },
  {
   "cell_type": "code",
   "execution_count": null,
   "metadata": {},
   "outputs": [],
   "source": [
    "''' 참고로 view vs reshape \n",
    "view : 텐서의 모양반 변경 , 데이터는 변경x / 기존 텐서와 동일한 메모리 공간 사용 / 총 요소수가 변경x\n",
    "reshape : 텐서의 모양과 데이터를 모두 변경 /  새로운 메모리 공간 할당 / 총 요소수가 변해도 된다.\n",
    "\n",
    "속도는 view가 훨신 빠름 \n",
    "'''"
   ]
  },
  {
   "cell_type": "code",
   "execution_count": 88,
   "metadata": {},
   "outputs": [
    {
     "data": {
      "text/plain": [
       "tensor([[4, 5],\n",
       "        [7, 8]])"
      ]
     },
     "execution_count": 88,
     "metadata": {},
     "output_type": "execute_result"
    }
   ],
   "source": [
    "b = a[1:,1:]\n",
    "b"
   ]
  },
  {
   "cell_type": "code",
   "execution_count": null,
   "metadata": {},
   "outputs": [],
   "source": []
  }
 ],
 "metadata": {
  "kernelspec": {
   "display_name": "pyto",
   "language": "python",
   "name": "python3"
  },
  "language_info": {
   "codemirror_mode": {
    "name": "ipython",
    "version": 3
   },
   "file_extension": ".py",
   "mimetype": "text/x-python",
   "name": "python",
   "nbconvert_exporter": "python",
   "pygments_lexer": "ipython3",
   "version": "3.11.8"
  }
 },
 "nbformat": 4,
 "nbformat_minor": 2
}
