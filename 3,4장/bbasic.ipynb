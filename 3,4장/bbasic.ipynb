{
 "cells": [
  {
   "cell_type": "markdown",
   "metadata": {},
   "source": [
    "##"
   ]
  },
  {
   "cell_type": "markdown",
   "metadata": {},
   "source": [
    "## shape 관련"
   ]
  },
  {
   "cell_type": "code",
   "execution_count": 11,
   "metadata": {},
   "outputs": [
    {
     "name": "stdout",
     "output_type": "stream",
     "text": [
      "[[0. 0. 0. 0. 0. 0.]]\n",
      "[[0. 0.]\n",
      " [0. 0.]\n",
      " [0. 0.]]\n",
      "[0. 0. 0. 0. 0. 0.]\n"
     ]
    },
    {
     "data": {
      "text/plain": [
       "(4, 2)"
      ]
     },
     "execution_count": 11,
     "metadata": {},
     "output_type": "execute_result"
    }
   ],
   "source": [
    "# shape\n",
    "import numpy as np\n",
    "a = np.zeros((2,3))\n",
    "print(a.reshape(1,6)) # 1,6 \n",
    "print(a.reshape(3,-1)) # 3,2\n",
    "print(a.ravel()) # 1차원으로 1,6\n",
    "\n",
    "b= np.array([[1,3],[0,-1]])\n",
    "c= np.random.randint(0,10,4).reshape(2,-1)\n",
    "np.matmul(b,c) # 행렬 연산\n",
    "np.concatenate([b,c],axis=0).shape # aixs=0 아래로 붙는다\n"
   ]
  },
  {
   "cell_type": "markdown",
   "metadata": {},
   "source": [
    "## class관련"
   ]
  },
  {
   "cell_type": "code",
   "execution_count": 38,
   "metadata": {},
   "outputs": [],
   "source": [
    "class DataPreprocessing:\n",
    "    def __init__(self,data,target): # self넣어주고 원하는 변수가져오고 정의 \n",
    "        self.data = data # 외부 데이터 \n",
    "        self.target = target # 외부 데이터 \n",
    "        self.num_instances = self.data.shape[0] \n",
    "        self.num_features = self.data.shape[1]\n",
    "        \n",
    "    def minmax(self): # 반드시 self기입 \n",
    "        for i in range(self.num_instances):\n",
    "            col = self.data[:,i]\n",
    "            self.data[:,i] =(self.data[:,i]-np.min(col))/(np.max(col)-np.min(col))\n",
    "        return self\n",
    "    \n",
    "    def normalization(self): # 반드시 self기입\n",
    "        for i in range(self.num_features):\n",
    "            col = self.data[:,i]\n",
    "            mu , sigma = np.mean(col),np.std(col)\n",
    "            self.data[:,i] = (self.data[:,i]-mu)/sigma\n",
    "        return self\n",
    "    \n",
    "    def scaler(self,scaling=None): # 반드시 self 기입하고 입력값에 따라 위에 정의한 함수 기능 수행 \n",
    "        if scaling == 'minmax':\n",
    "            self.minmax()\n",
    "            \n",
    "        elif scaling == 'normalization':\n",
    "            self.normalization()\n",
    "    \n",
    "        else:\n",
    "            pass\n",
    "        return self.data"
   ]
  },
  {
   "cell_type": "code",
   "execution_count": 49,
   "metadata": {},
   "outputs": [
    {
     "name": "stdout",
     "output_type": "stream",
     "text": [
      "[[ -0.43126604   7.65108455   2.52802669   0.62216847   4.7712651 ]\n",
      " [ 16.23145433  14.67427148   5.0307811   -6.58236022  19.63745346]\n",
      " [  2.94726448  -9.62107198  17.14513426   6.06581845   9.82757329]\n",
      " [ -1.77140459   0.13326038 -11.66911401  15.7807664    3.07993813]\n",
      " [ -7.34652502  15.72887912  -6.93164727   1.40150587   6.38190797]]\n",
      "--------------------------------------------------------------------------------------------------------------\n",
      "[[ -0.43126604   7.65108455   2.52802669   0.62216847   4.7712651 ]\n",
      " [ 16.23145433  14.67427148   5.0307811   -6.58236022  19.63745346]\n",
      " [  2.94726448  -9.62107198  17.14513426   6.06581845   9.82757329]\n",
      " [ -1.77140459   0.13326038 -11.66911401  15.7807664    3.07993813]\n",
      " [ -7.34652502  15.72887912  -6.93164727   1.40150587   6.38190797]]\n",
      "--------------------------------------------------------------------------------------------------------------\n",
      "[[0.29329311 0.68134871 0.49271251 0.32216107 0.1021486 ]\n",
      " [1.         0.95839804 0.57957074 0.         1.        ]\n",
      " [0.43658489 0.         1.         0.56558186 0.40752704]\n",
      " [0.23645455 0.38478703 0.         1.         0.        ]\n",
      " [0.         1.         0.16441403 0.35701028 0.19942424]]\n",
      "--------------------------------------------------------------------------------------------------------------\n"
     ]
    }
   ],
   "source": [
    "data = np.random.normal(0,10,(5,5))\n",
    "print(data)\n",
    "print('-----------'*10)\n",
    "target = np.random.normal(0,1,5)\n",
    "\n",
    "data_process = DataPreprocessing(data,target)\n",
    "data1 = data_process.scaler('asda')\n",
    "print(data1)\n",
    "print('-----------'*10)\n",
    "\n",
    "data2 = data_process.scaler('minmax')\n",
    "print(data2)\n",
    "print('-----------'*10)"
   ]
  },
  {
   "cell_type": "code",
   "execution_count": 54,
   "metadata": {},
   "outputs": [
    {
     "name": "stdout",
     "output_type": "stream",
     "text": [
      "[[0.54240938 0.         0.20178463 0.44099768 0.        ]\n",
      " [0.         0.87340901 0.03694365 0.4161334  0.33524729]\n",
      " [0.34955012 0.47147533 0.04935694 0.         1.        ]\n",
      " [1.         0.2606112  0.         1.         0.22503933]\n",
      " [0.50325665 1.         1.         0.46786611 0.40479197]]\n"
     ]
    }
   ],
   "source": [
    "class Datapipeline(DataPreprocessing):\n",
    "    def __init__(self, data):\n",
    "        super().__init__(data, None)  # DataPreprocessing의 __init__ 메서드 호출(오버라이팅 )\n",
    "        self.num_features = self.data.shape[1]\n",
    "'''\n",
    "오버라이딩(Overriding)은 하위 클래스가(DataPreprocessing)\n",
    "상위 클래스(Datapipeline)에 이미 정의된 메서드에 대해 특정한 구현을 제공하는 개념\n",
    "'''\n",
    "data = np.random.normal(0, 10, (5, 5))\n",
    "pipe = Datapipeline(data)\n",
    "data = pipe.scaler('minmax')\n",
    "print(data)\n"
   ]
  }
 ],
 "metadata": {
  "kernelspec": {
   "display_name": "pyto",
   "language": "python",
   "name": "python3"
  },
  "language_info": {
   "codemirror_mode": {
    "name": "ipython",
    "version": 3
   },
   "file_extension": ".py",
   "mimetype": "text/x-python",
   "name": "python",
   "nbconvert_exporter": "python",
   "pygments_lexer": "ipython3",
   "version": "3.11.8"
  }
 },
 "nbformat": 4,
 "nbformat_minor": 2
}
